{
 "cells": [
  {
   "cell_type": "code",
   "execution_count": 1,
   "metadata": {
    "collapsed": true
   },
   "outputs": [],
   "source": [
    "import threading\n",
    "from queue import Queue\n",
    "import time"
   ]
  },
  {
   "cell_type": "code",
   "execution_count": 2,
   "metadata": {
    "collapsed": true
   },
   "outputs": [],
   "source": [
    "# lock print function\n",
    "print_lock = threading.Lock()"
   ]
  },
  {
   "cell_type": "code",
   "execution_count": 4,
   "metadata": {
    "collapsed": true
   },
   "outputs": [],
   "source": [
    "def exampleJob(worker):\n",
    "    time.sleep(.5)\n",
    "    \n",
    "    with print_lock:\n",
    "        print(threading.current_thread().name, worker)"
   ]
  },
  {
   "cell_type": "code",
   "execution_count": 5,
   "metadata": {
    "collapsed": true
   },
   "outputs": [],
   "source": [
    "# threading operation\n",
    "def threader():\n",
    "    while True:\n",
    "        worker = q.get()\n",
    "        exampleJob(worker)\n",
    "        q.task_done()"
   ]
  },
  {
   "cell_type": "code",
   "execution_count": 3,
   "metadata": {
    "collapsed": true
   },
   "outputs": [],
   "source": [
    "q = Queue()"
   ]
  },
  {
   "cell_type": "code",
   "execution_count": 6,
   "metadata": {
    "collapsed": false
   },
   "outputs": [
    {
     "name": "stdout",
     "output_type": "stream",
     "text": [
      "Thread-5 0\n",
      "Thread-7 2\n",
      "Thread-8 3\n",
      "Thread-10 5\n",
      "Thread-9 4\n",
      "Thread-11 6\n",
      "Thread-6 1\n",
      "Thread-12 7\n",
      "Thread-4 8\n",
      "Thread-13 9\n",
      "Thread-5 10\n",
      "Thread-7 11\n",
      "Thread-10 13\n",
      "Thread-9 14\n",
      "Thread-6 16\n",
      "Thread-12 17\n",
      "Thread-4 18\n",
      "Thread-8 12\n",
      "Thread-13 19\n",
      "Thread-11 15\n",
      "Entire job took:  1.0073139667510986\n"
     ]
    }
   ],
   "source": [
    "# 10 instances for the job\n",
    "for x in range(10):\n",
    "    t = threading.Thread(target=threader)\n",
    "    # die when the main thread dies\n",
    "    t.daemon = True\n",
    "    t.start()\n",
    "    \n",
    "start = time.time()\n",
    "\n",
    "# 20 jobs\n",
    "for worker in range(20):\n",
    "    q.put(worker)\n",
    "    \n",
    "# wait until the thread terminates\n",
    "q.join()\n",
    "\n",
    "print('Entire job took: ', time.time() - start)"
   ]
  },
  {
   "cell_type": "code",
   "execution_count": null,
   "metadata": {
    "collapsed": true
   },
   "outputs": [],
   "source": []
  },
  {
   "cell_type": "code",
   "execution_count": 7,
   "metadata": {
    "collapsed": true
   },
   "outputs": [],
   "source": [
    "from threading import Thread"
   ]
  },
  {
   "cell_type": "code",
   "execution_count": 8,
   "metadata": {
    "collapsed": true
   },
   "outputs": [],
   "source": [
    "def timer(name, delay, repeat):\n",
    "    print('Timer: ' + name + ' Started')\n",
    "    while repeat > 0:\n",
    "        time.sleep(delay)\n",
    "        print(name + ': ' + str(time.ctime(time.time())))\n",
    "        repeat -= 1\n",
    "    print('Timer: ' + name + ' Completed')"
   ]
  },
  {
   "cell_type": "code",
   "execution_count": 9,
   "metadata": {
    "collapsed": true
   },
   "outputs": [],
   "source": [
    "def Main():\n",
    "    t1 = Thread(target = timer, args = ('Timer1', 1, 5))\n",
    "    t2 = Thread(target = timer, args = ('Timer2', 2, 5))\n",
    "    \n",
    "    t1.start()\n",
    "    t2.start()\n",
    "    \n",
    "    print('Main completed')"
   ]
  },
  {
   "cell_type": "code",
   "execution_count": 10,
   "metadata": {
    "collapsed": false
   },
   "outputs": [
    {
     "name": "stdout",
     "output_type": "stream",
     "text": [
      "Timer: Timer1 Started\n",
      "Timer: Timer2 Started\n",
      "Main completed\n",
      "Timer1: Mon Sep 25 17:24:08 2017\n",
      "Timer2: Mon Sep 25 17:24:09 2017\n",
      "Timer1: Mon Sep 25 17:24:09 2017\n",
      "Timer1: Mon Sep 25 17:24:10 2017\n",
      "Timer2: Mon Sep 25 17:24:11 2017Timer1: Mon Sep 25 17:24:11 2017\n",
      "\n",
      "Timer1: Mon Sep 25 17:24:12 2017\n",
      "Timer: Timer1 Completed\n",
      "Timer2: Mon Sep 25 17:24:13 2017\n",
      "Timer2: Mon Sep 25 17:24:15 2017\n",
      "Timer2: Mon Sep 25 17:24:17 2017\n",
      "Timer: Timer2 Completed\n"
     ]
    }
   ],
   "source": [
    "Main()"
   ]
  },
  {
   "cell_type": "code",
   "execution_count": null,
   "metadata": {
    "collapsed": true
   },
   "outputs": [],
   "source": []
  },
  {
   "cell_type": "code",
   "execution_count": 11,
   "metadata": {
    "collapsed": true
   },
   "outputs": [],
   "source": [
    "# AsyncWrite Program\n",
    "class AsyncWrite(threading.Thread):\n",
    "    def __init__(self, text, out):\n",
    "        threading.Thread.__init__(self)\n",
    "        self.text = text\n",
    "        self.out = out\n",
    "        \n",
    "    def run(self):\n",
    "        f = open(self.out, 'a')\n",
    "        f.write(self.text + '\\n')\n",
    "        f.close()\n",
    "        time.sleep(2)\n",
    "        print('Finished writing ' + self.out)\n",
    "        \n",
    "def Main():\n",
    "    message = input('Enter a string to store: ')\n",
    "    background = AsyncWrite(message, 'out.txt')\n",
    "    background.start()\n",
    "    print('The program can continue while it writes in another thread')\n",
    "    print('100 + 400 = ', 100+400)\n",
    "    \n",
    "    background.join()\n",
    "    \n",
    "    print('Waited until thread was completed')\n",
    "    "
   ]
  },
  {
   "cell_type": "code",
   "execution_count": 12,
   "metadata": {
    "collapsed": false
   },
   "outputs": [
    {
     "name": "stdout",
     "output_type": "stream",
     "text": [
      "Enter a string to store: test\n",
      "The program can continue while it writes in another thread\n",
      "100 + 400 =  500\n",
      "Finished writing out.txt\n",
      "Waited until thread was completed\n"
     ]
    }
   ],
   "source": [
    "Main()"
   ]
  },
  {
   "cell_type": "code",
   "execution_count": 13,
   "metadata": {
    "collapsed": true
   },
   "outputs": [],
   "source": [
    "# use locks\n",
    "tLock = threading.Lock()\n",
    "def timer(name, delay, repeat):\n",
    "    print('Timer: ' + name + ' Started')\n",
    "    tLock.acquire()\n",
    "    print(name + ' has acquired the lock')\n",
    "    \n",
    "    while repeat > 0:\n",
    "        time.sleep(delay)\n",
    "        print(name + ': ' + str(time.ctime(time.time())))\n",
    "        repeat -= 1\n",
    "    print(name + ' is releasing the lock')\n",
    "    tLock.release()\n",
    "    print('Timer: ' + name + ' Completed')\n",
    "    \n",
    "    \n",
    "def Main():\n",
    "    t1 = threading.Thread(target = timer, args = ('Timer1', 1, 5))\n",
    "    t2 = threading.Thread(target = timer, args = ('Timer2', 2, 5))\n",
    "    \n",
    "    t1.start()\n",
    "    t2.start()\n",
    "    \n",
    "    print('Main completed')"
   ]
  },
  {
   "cell_type": "code",
   "execution_count": 14,
   "metadata": {
    "collapsed": false
   },
   "outputs": [
    {
     "name": "stdout",
     "output_type": "stream",
     "text": [
      "Timer: Timer1 Started\n",
      "Timer1 has acquired the lock\n",
      "Timer: Timer2 Started\n",
      "Main completed\n",
      "Timer1: Mon Sep 25 17:36:19 2017\n",
      "Timer1: Mon Sep 25 17:36:20 2017\n",
      "Timer1: Mon Sep 25 17:36:21 2017\n",
      "Timer1: Mon Sep 25 17:36:22 2017\n",
      "Timer1: Mon Sep 25 17:36:23 2017\n",
      "Timer1 is releasing the lock\n",
      "Timer: Timer1 Completed\n",
      "Timer2 has acquired the lock\n",
      "Timer2: Mon Sep 25 17:36:25 2017\n",
      "Timer2: Mon Sep 25 17:36:27 2017\n",
      "Timer2: Mon Sep 25 17:36:29 2017\n",
      "Timer2: Mon Sep 25 17:36:31 2017\n",
      "Timer2: Mon Sep 25 17:36:33 2017\n",
      "Timer2 is releasing the lock\n",
      "Timer: Timer2 Completed\n"
     ]
    }
   ],
   "source": [
    "Main()"
   ]
  },
  {
   "cell_type": "code",
   "execution_count": null,
   "metadata": {
    "collapsed": true
   },
   "outputs": [],
   "source": []
  }
 ],
 "metadata": {
  "anaconda-cloud": {},
  "kernelspec": {
   "display_name": "Python [Root]",
   "language": "python",
   "name": "Python [Root]"
  },
  "language_info": {
   "codemirror_mode": {
    "name": "ipython",
    "version": 3
   },
   "file_extension": ".py",
   "mimetype": "text/x-python",
   "name": "python",
   "nbconvert_exporter": "python",
   "pygments_lexer": "ipython3",
   "version": "3.5.1"
  }
 },
 "nbformat": 4,
 "nbformat_minor": 0
}
